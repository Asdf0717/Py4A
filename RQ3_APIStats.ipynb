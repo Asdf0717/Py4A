{
 "cells": [
  {
   "cell_type": "markdown",
   "metadata": {},
   "source": [
    "# Statistics about the Collected Package APIs"
   ]
  },
  {
   "cell_type": "code",
   "execution_count": 2,
   "metadata": {},
   "outputs": [],
   "source": [
    "import pandas as pd\n",
    "import multiprocessing as mp\n",
    "import matplotlib.pyplot as plt\n",
    "import py4a.api.accessor as accessor\n",
    "from tqdm import tqdm\n",
    "from copy import deepcopy\n",
    "from datetime import timedelta\n",
    "from collections import defaultdict, Counter\n",
    "from dateutil.parser import parse as parse_date\n",
    "from packaging.requirements import Requirement\n",
    "from py4a.util import get_spec_type"
   ]
  },
  {
   "cell_type": "code",
   "execution_count": 3,
   "metadata": {},
   "outputs": [
    {
     "name": "stdout",
     "output_type": "stream",
     "text": [
      "9637 packages, 580005 versions, 415127 versions (7668 packages) with wheel\n"
     ]
    },
    {
     "data": {
      "text/html": [
       "<div>\n",
       "<style scoped>\n",
       "    .dataframe tbody tr th:only-of-type {\n",
       "        vertical-align: middle;\n",
       "    }\n",
       "\n",
       "    .dataframe tbody tr th {\n",
       "        vertical-align: top;\n",
       "    }\n",
       "\n",
       "    .dataframe thead th {\n",
       "        text-align: right;\n",
       "    }\n",
       "</style>\n",
       "<table border=\"1\" class=\"dataframe\">\n",
       "  <thead>\n",
       "    <tr style=\"text-align: right;\">\n",
       "      <th></th>\n",
       "      <th>package</th>\n",
       "      <th>version</th>\n",
       "      <th>time</th>\n",
       "      <th>requires_python</th>\n",
       "      <th>requires_dist</th>\n",
       "      <th>wheel</th>\n",
       "      <th>wheel_top_levels</th>\n",
       "      <th>summary_static</th>\n",
       "      <th>summary_dynamic</th>\n",
       "    </tr>\n",
       "  </thead>\n",
       "  <tbody>\n",
       "    <tr>\n",
       "      <th>0</th>\n",
       "      <td>itsdangerous</td>\n",
       "      <td>0.10</td>\n",
       "      <td>2011-06-29T13:26:18</td>\n",
       "      <td>None</td>\n",
       "      <td>None</td>\n",
       "      <td>None</td>\n",
       "      <td>None</td>\n",
       "      <td>None</td>\n",
       "      <td>None</td>\n",
       "    </tr>\n",
       "  </tbody>\n",
       "</table>\n",
       "</div>"
      ],
      "text/plain": [
       "        package version                 time requires_python requires_dist  \\\n",
       "0  itsdangerous    0.10  2011-06-29T13:26:18            None          None   \n",
       "\n",
       "  wheel wheel_top_levels summary_static summary_dynamic  \n",
       "0  None             None           None            None  "
      ]
     },
     "execution_count": 3,
     "metadata": {},
     "output_type": "execute_result"
    }
   ],
   "source": [
    "stats = pd.DataFrame(sum(accessor.get_stats_all().values(), []))\n",
    "print(\n",
    "    f\"{stats.package.nunique()} packages, {len(stats)} versions, \"\n",
    "    f\"{stats.wheel.count()} versions ({stats[stats.wheel.notna()].package.nunique()} packages) with wheel\"\n",
    ")\n",
    "stats.head(1)"
   ]
  },
  {
   "cell_type": "markdown",
   "metadata": {},
   "source": [
    "## Statistics About Wheels"
   ]
  },
  {
   "cell_type": "code",
   "execution_count": 5,
   "metadata": {},
   "outputs": [
    {
     "name": "stdout",
     "output_type": "stream",
     "text": [
      "      Has Wheel  No Wheel\n",
      "2005          0        38\n",
      "2006          0       191\n",
      "2007          0       362\n",
      "2008          0       731\n",
      "2009          1      1484\n",
      "2010          1      2222\n",
      "2011          5      3273\n",
      "2012         13      5237\n",
      "2013        235      9028\n",
      "2014       2192     11378\n",
      "2015       5577     12038\n",
      "2016      10176     12690\n",
      "2017      15086     15148\n",
      "2018      23403     14638\n",
      "2019      44156     18893\n",
      "2020     114987     41721\n",
      "2021     198903     12745\n",
      "2022        385        37\n"
     ]
    },
    {
     "data": {
      "image/png": "[encoded data removed]",
      "text/plain": [
       "<Figure size 720x288 with 1 Axes>"
      ]
     },
     "metadata": {
      "needs_background": "light"
     },
     "output_type": "display_data"
    }
   ],
   "source": [
    "year2wheels = defaultdict(lambda: {\"Has Wheel\": 0, \"No Wheel\": 0})\n",
    "for t, wheel in zip(stats.time, stats.wheel):\n",
    "    if pd.isnull(t):\n",
    "        continue\n",
    "    t = parse_date(t)\n",
    "    if wheel is not None:\n",
    "        year2wheels[t.year][\"Has Wheel\"] += 1\n",
    "    else:\n",
    "        year2wheels[t.year][\"No Wheel\"] += 1\n",
    "year2wheels = pd.DataFrame.from_dict(year2wheels, orient=\"index\").sort_index()\n",
    "fig, ax = plt.subplots(1, 1, figsize=(10, 4))\n",
    "year2wheels.plot(kind=\"bar\", stacked=\"True\", mark_right=True, use_index=True, ax=ax)\n",
    "fig.autofmt_xdate()\n",
    "fig.savefig(\"evaluation/figs/pkg_whl_dist_by_year.pdf\", bbox_inches=\"tight\")\n",
    "print(year2wheels)"
   ]
  },
  {
   "cell_type": "code",
   "execution_count": 5,
   "metadata": {},
   "outputs": [
    {
     "data": {
      "image/png": "[encoded data removed]",
      "text/plain": [
       "<Figure size 720x288 with 1 Axes>"
      ]
     },
     "metadata": {
      "needs_background": "light"
     },
     "output_type": "display_data"
    }
   ],
   "source": [
    "wheel2pyver = defaultdict(lambda: {\"Python 2\": 0, \"Python 3\": 0, \"Any\": 0})\n",
    "for t, wheel in zip(stats.time, stats.wheel):\n",
    "    if wheel is None or pd.isnull(t):\n",
    "        continue\n",
    "    t = parse_date(t)\n",
    "    for item in wheel.split(\"-\"):\n",
    "        if item.startswith(\"py\"):\n",
    "            if \"py3\" in item and \"py2\" in item:\n",
    "                wheel2pyver[t.year][\"Any\"] += 1\n",
    "            elif \"py3\" in item:\n",
    "                wheel2pyver[t.year][\"Python 3\"] += 1\n",
    "            elif \"py2\" in item:\n",
    "                wheel2pyver[t.year][\"Python 2\"] += 1\n",
    "            else:\n",
    "                wheel2pyver[t.year][\"Any\"] += 1\n",
    "wheel2pyver = pd.DataFrame.from_dict(wheel2pyver, orient=\"index\").sort_index()\n",
    "fig, ax = plt.subplots(1, 1, figsize=(10, 4))\n",
    "wheel2pyver.plot(kind=\"bar\", stacked=\"True\", mark_right=True, use_index=True, ax=ax)\n",
    "fig.autofmt_xdate()\n",
    "fig.savefig(\"evaluation/figs/pkg_whl_pyver_by_year.pdf\", bbox_inches=\"tight\")"
   ]
  },
  {
   "cell_type": "markdown",
   "metadata": {},
   "source": [
    "## Statistics about Dependency Specifications"
   ]
  },
  {
   "cell_type": "code",
   "execution_count": 5,
   "metadata": {},
   "outputs": [
    {
     "name": "stdout",
     "output_type": "stream",
     "text": [
      "1631465 deps from 5857 packages and 213180 versions\n",
      "any       :  487666 (29.89%)\n",
      "fixed     :  410599 (25.17%)\n",
      "at-least  :  376528 (23.08%)\n",
      "range     :  236232 (14.48%)\n",
      "at-most   :   49166 (3.01%)\n",
      "var-micro :   34033 (2.09%)\n",
      "other     :   22285 (1.37%)\n",
      "var-minor :   14956 (0.92%)\n"
     ]
    }
   ],
   "source": [
    "def get_deps(pkg, ver, t, req):\n",
    "    x = Requirement(req)\n",
    "    if x.marker is not None or len(x.extras) > 0:\n",
    "        return None\n",
    "    return {\n",
    "        \"pkg\": pkg,\n",
    "        \"ver\": ver,\n",
    "        \"time\": t,\n",
    "        \"type\": get_spec_type(req),\n",
    "        \"dep\": req,\n",
    "    }\n",
    "params = []\n",
    "for pkg, ver, t, req in zip(stats.package, stats.version, stats.time, stats.requires_dist):\n",
    "    if req is None:\n",
    "        continue\n",
    "    params.extend((pkg, ver, t, r) for r in req)\n",
    "with mp.Pool(mp.cpu_count()) as pool:\n",
    "    deps = pd.DataFrame(filter(lambda x: x is not None, pool.starmap(get_deps, params)))\n",
    "print(\n",
    "    f\"{len(deps)} deps from {deps.pkg.nunique()} packages \"\n",
    "    f\"and {len(set(zip(deps.pkg, deps.ver)))} versions\"\n",
    ")\n",
    "for k, v in sorted(Counter(deps.type).items(), key=lambda x: -x[1]):\n",
    "    print(f\"{k:10s}: {v:7d} ({100*v/len(deps):4.2f}%)\")"
   ]
  },
  {
   "cell_type": "code",
   "execution_count": 6,
   "metadata": {},
   "outputs": [
    {
     "name": "stderr",
     "output_type": "stream",
     "text": [
      "100%|██████████| 1631221/1631221 [01:18<00:00, 20696.83it/s]\n"
     ]
    },
    {
     "name": "stdout",
     "output_type": "stream",
     "text": [
      "2013 4\n",
      "2014 394\n",
      "2015 10932\n",
      "2016 23479\n",
      "2017 55463\n",
      "2018 108883\n",
      "2019 255381\n",
      "2020 486461\n",
      "2021 690224\n"
     ]
    }
   ],
   "source": [
    "deps = deps[deps.time.notnull()]\n",
    "year2dep_type = dict()\n",
    "for time, dep_type in tqdm(zip(deps.time, deps.type), total=len(deps)):\n",
    "    y = parse_date(time).year\n",
    "    if y not in year2dep_type:\n",
    "        year2dep_type[y] = {\"any\": 0, \"at-least\": 0, \"range\": 0, \"fixed\": 0, \"other\": 0}\n",
    "    if dep_type in year2dep_type[y]:\n",
    "        year2dep_type[y][dep_type] += 1\n",
    "    elif dep_type == \"var-minor\" or dep_type == \"var-micro\":\n",
    "        year2dep_type[y][\"range\"] += 1\n",
    "    else:\n",
    "        year2dep_type[y][\"other\"] += 1\n",
    "to_del = set()\n",
    "for year, counter in sorted(year2dep_type.items(), key=lambda x: x[0]):\n",
    "    s = sum(counter.values())\n",
    "    print(year, s)\n",
    "    if s < 1000:\n",
    "        to_del.add(year)\n",
    "    for v in counter:\n",
    "        counter[v] = counter[v] / s\n",
    "for y in to_del:\n",
    "    del year2dep_type[y]\n",
    "year2dep_type = pd.DataFrame.from_dict(year2dep_type, orient=\"index\").sort_index().fillna(0)"
   ]
  },
  {
   "cell_type": "code",
   "execution_count": 7,
   "metadata": {},
   "outputs": [
    {
     "data": {
      "image/png": "[encoded data removed]",
      "text/plain": [
       "<Figure size 864x288 with 1 Axes>"
      ]
     },
     "metadata": {
      "needs_background": "light"
     },
     "output_type": "display_data"
    }
   ],
   "source": [
    "fig, ax = plt.subplots(1, 1, figsize=(12, 4))\n",
    "year2dep_type.plot(kind=\"bar\", stacked=\"True\", mark_right=True, use_index=True, ax=ax, \n",
    "    color=[\"tab:red\", \"tab:orange\", \"tab:green\", \"tab:blue\", \"tab:gray\"])\n",
    "for i, (y, types) in enumerate(year2dep_type.iterrows()):\n",
    "    x = 0\n",
    "    for t, c in types.items():\n",
    "        x = x + c * 0.5\n",
    "        if c > 0.05:\n",
    "            ax.text(i, x, f\"{100*c:.2f}%\", ha=\"center\", va=\"center\")\n",
    "        x = x + c * 0.5\n",
    "fig.autofmt_xdate()\n",
    "fig.savefig(\"evaluation/figs/pkg_dep_type_by_year.png\", bbox_inches=\"tight\")"
   ]
  },
  {
   "cell_type": "markdown",
   "metadata": {},
   "source": [
    "## Statistics About APIs (Both from Static Analysis and Dynamic Analysis)"
   ]
  },
  {
   "cell_type": "code",
   "execution_count": 6,
   "metadata": {},
   "outputs": [
    {
     "name": "stdout",
     "output_type": "stream",
     "text": [
      "Static API Analysis:\n",
      "  415105 versions (7668 packages) have no error\n",
      "  397962 versions (7581 packages) have no failed modules\n",
      "  26322830.0 successful modules and 164791 failed modules\n",
      "  357385275.0 apis, 33832920.0 functions, 86244572.0 classes, 60682629.0 variables, 170280964.0 aliases\n"
     ]
    }
   ],
   "source": [
    "stats_s = []\n",
    "for stat in filter(lambda x: x is not None, stats.summary_static):\n",
    "    stat = deepcopy(stat)\n",
    "    if stat[\"api_statistics\"] is not None:\n",
    "        for k in [\"top_levels\", \"num_apis\", \"num_functions\", \n",
    "                  \"num_classes\", \"num_variables\", \"num_aliases\", \"num_modules\"]:\n",
    "            if k in stat[\"api_statistics\"]:\n",
    "                stat[k] = stat[\"api_statistics\"][k]\n",
    "    del stat[\"api_statistics\"]\n",
    "    stats_s.append(stat)\n",
    "stats_s = pd.DataFrame(stats_s)\n",
    "stats_no_err_s = stats_s[~stats_s[\"error\"]].copy()\n",
    "stats_no_fmod_s = stats_s[~stats_s[\"error\"] & stats_s.failed_modules.map(lambda x: x is not None and len(x) == 0)]\n",
    "num_mods = sum(stats_no_err_s[stats_no_err_s.num_modules.notna()].num_modules)\n",
    "num_fmods = sum(stats_no_err_s.failed_modules.map(len))\n",
    "print(\n",
    "    \"Static API Analysis:\\n\"\n",
    "    f\"  {len(stats_no_err_s)} versions ({stats_no_err_s.package.nunique()} packages) have no error\\n\"\n",
    "    f\"  {len(stats_no_fmod_s)} versions ({stats_no_fmod_s.package.nunique()} packages) have no failed modules\\n\"\n",
    "    f\"  {num_mods} successful modules and {num_fmods} failed modules\\n\"\n",
    "    f\"  {sum(stats_no_err_s.num_apis)} apis, \"\n",
    "    f\"{sum(stats_no_err_s.num_functions)} functions, \"\n",
    "    f\"{sum(stats_no_err_s.num_classes)} classes, \"\n",
    "    f\"{sum(stats_no_err_s.num_variables)} variables, \"\n",
    "    f\"{sum(stats_no_err_s.num_aliases)} aliases\"\n",
    ")"
   ]
  },
  {
   "cell_type": "code",
   "execution_count": 9,
   "metadata": {},
   "outputs": [
    {
     "name": "stdout",
     "output_type": "stream",
     "text": [
      "Dynamic API Analysis:\n",
      "  380345 versions (7289 packages) have no error\n",
      "  226608 versions (6412 packages) have no failed modules\n",
      "  4074562.0 successful modules and 175356 failed modules\n",
      "  46906625.0 apis, 12374718.0 functions, 18147990.0 classes, 8531484.0 variables, 7841508.0 aliases\n"
     ]
    }
   ],
   "source": [
    "stats_d = []\n",
    "for stat in filter(lambda x: x is not None, stats.summary_dynamic):\n",
    "    stat = deepcopy(stat)\n",
    "    if stat[\"api_statistics\"] is not None:\n",
    "        for k in [\"top_levels\", \"num_apis\", \"num_functions\", \n",
    "                  \"num_classes\", \"num_variables\", \"num_aliases\", \"num_modules\"]:\n",
    "            if k in stat[\"api_statistics\"]:\n",
    "                stat[k] = stat[\"api_statistics\"][k]\n",
    "    del stat[\"api_statistics\"]\n",
    "    stats_d.append(stat)\n",
    "stats_d = pd.DataFrame(stats_d)\n",
    "stats_no_err_d = stats_d[~stats_d[\"error\"]].copy()\n",
    "stats_no_fmod_d = stats_d[~stats_d[\"error\"] & stats_d.failed_modules.map(lambda x: x is not None and len(x) == 0)]\n",
    "num_mods = sum(stats_no_err_d[stats_no_err_d.num_modules.notna()].num_modules)\n",
    "num_fmods = sum(stats_no_err_d.failed_modules.map(len))\n",
    "print(\n",
    "    \"Dynamic API Analysis:\\n\"\n",
    "    f\"  {len(stats_no_err_d)} versions ({stats_no_err_d.package.nunique()} packages) have no error\\n\"\n",
    "    f\"  {len(stats_no_fmod_d)} versions ({stats_no_fmod_d.package.nunique()} packages) have no failed modules\\n\"\n",
    "    f\"  {num_mods} successful modules and {num_fmods} failed modules\\n\"\n",
    "    f\"  {sum(stats_no_err_d.num_apis)} apis, \"\n",
    "    f\"{sum(stats_no_err_d.num_functions)} functions, \"\n",
    "    f\"{sum(stats_no_err_d.num_classes)} classes, \"\n",
    "    f\"{sum(stats_no_err_d.num_variables)} variables, \"\n",
    "    f\"{sum(stats_no_err_d.num_aliases)} aliases\"\n",
    ")"
   ]
  },
  {
   "cell_type": "code",
   "execution_count": 10,
   "metadata": {},
   "outputs": [
    {
     "name": "stdout",
     "output_type": "stream",
     "text": [
      "30G\tdata/apis\n",
      "8.9G\tdata/apid\n"
     ]
    }
   ],
   "source": [
    "! du data/apis -h | tail -n 1\n",
    "! du data/apid -h | tail -n 1"
   ]
  },
  {
   "cell_type": "code",
   "execution_count": 11,
   "metadata": {},
   "outputs": [
    {
     "name": "stdout",
     "output_type": "stream",
     "text": [
      "3 days 16:28:40.592598 103 days 21:38:52.618578\n"
     ]
    },
    {
     "data": {
      "text/html": [
       "<div>\n",
       "<style scoped>\n",
       "    .dataframe tbody tr th:only-of-type {\n",
       "        vertical-align: middle;\n",
       "    }\n",
       "\n",
       "    .dataframe tbody tr th {\n",
       "        vertical-align: top;\n",
       "    }\n",
       "\n",
       "    .dataframe thead th {\n",
       "        text-align: right;\n",
       "    }\n",
       "</style>\n",
       "<table border=\"1\" class=\"dataframe\">\n",
       "  <thead>\n",
       "    <tr style=\"text-align: right;\">\n",
       "      <th></th>\n",
       "      <th>static</th>\n",
       "      <th>dynamic</th>\n",
       "    </tr>\n",
       "  </thead>\n",
       "  <tbody>\n",
       "    <tr>\n",
       "      <th>count</th>\n",
       "      <td>413492</td>\n",
       "      <td>380345</td>\n",
       "    </tr>\n",
       "    <tr>\n",
       "      <th>mean</th>\n",
       "      <td>0 days 00:00:00.770318633</td>\n",
       "      <td>0 days 00:00:23.602604526</td>\n",
       "    </tr>\n",
       "    <tr>\n",
       "      <th>std</th>\n",
       "      <td>0 days 00:00:03.089566732</td>\n",
       "      <td>0 days 00:06:24.111670056</td>\n",
       "    </tr>\n",
       "    <tr>\n",
       "      <th>min</th>\n",
       "      <td>0 days 00:00:00.001848</td>\n",
       "      <td>0 days 00:00:06.928392</td>\n",
       "    </tr>\n",
       "    <tr>\n",
       "      <th>25%</th>\n",
       "      <td>0 days 00:00:00.051564</td>\n",
       "      <td>0 days 00:00:09.652326</td>\n",
       "    </tr>\n",
       "    <tr>\n",
       "      <th>50%</th>\n",
       "      <td>0 days 00:00:00.121210</td>\n",
       "      <td>0 days 00:00:12.395129</td>\n",
       "    </tr>\n",
       "    <tr>\n",
       "      <th>75%</th>\n",
       "      <td>0 days 00:00:00.381903</td>\n",
       "      <td>0 days 00:00:18.246913</td>\n",
       "    </tr>\n",
       "    <tr>\n",
       "      <th>max</th>\n",
       "      <td>0 days 00:03:07.609529</td>\n",
       "      <td>1 days 14:42:22.436672</td>\n",
       "    </tr>\n",
       "  </tbody>\n",
       "</table>\n",
       "</div>"
      ],
      "text/plain": [
       "                          static                    dynamic\n",
       "count                     413492                     380345\n",
       "mean   0 days 00:00:00.770318633  0 days 00:00:23.602604526\n",
       "std    0 days 00:00:03.089566732  0 days 00:06:24.111670056\n",
       "min       0 days 00:00:00.001848     0 days 00:00:06.928392\n",
       "25%       0 days 00:00:00.051564     0 days 00:00:09.652326\n",
       "50%       0 days 00:00:00.121210     0 days 00:00:12.395129\n",
       "75%       0 days 00:00:00.381903     0 days 00:00:18.246913\n",
       "max       0 days 00:03:07.609529     1 days 14:42:22.436672"
      ]
     },
     "execution_count": 11,
     "metadata": {},
     "output_type": "execute_result"
    }
   ],
   "source": [
    "stats_no_err_s.time_begin = stats_no_err_s.time_begin.map(parse_date)\n",
    "stats_no_err_s.time_end = stats_no_err_s.time_end.map(parse_date)\n",
    "stats_no_err_d.time_begin = stats_no_err_d.time_begin.map(parse_date)\n",
    "stats_no_err_d.time_end = stats_no_err_d.time_end.map(parse_date)\n",
    "time_static = stats_no_err_s.time_end - stats_no_err_s.time_begin\n",
    "time_dynamic = stats_no_err_d.time_end - stats_no_err_d.time_begin\n",
    "print(sum(time_static, timedelta()), sum(time_dynamic, timedelta()))\n",
    "pd.DataFrame({\"static\": time_static, \"dynamic\": time_dynamic}).describe()"
   ]
  },
  {
   "cell_type": "code",
   "execution_count": 12,
   "metadata": {},
   "outputs": [
    {
     "data": {
      "text/plain": [
       "Counter({\"FileNotFoundError: '/' in top level\": 1353,\n",
       "         'FileExistsError: some intermittent zip extraction was terminated': 42,\n",
       "         'Other': 22})"
      ]
     },
     "execution_count": 12,
     "metadata": {},
     "output_type": "execute_result"
    }
   ],
   "source": [
    "stats_err_s = pd.DataFrame(\n",
    "    list(\n",
    "        stats[\n",
    "            stats.summary_static.map(lambda s: s is not None and s[\"error\"])\n",
    "        ].summary_static\n",
    "    )\n",
    ")\n",
    "def get_static_error_type(s):\n",
    "    if \"FileNotFoundError\" in s:\n",
    "        return \"FileNotFoundError: '/' in top level\"\n",
    "    elif \"FileExistsError\" in s:\n",
    "        return \"FileExistsError: some intermittent zip extraction was terminated\"\n",
    "    else:\n",
    "        return \"Other\"\n",
    "stats_err_s[\"type\"] = stats_err_s.stack_trace.map(get_static_error_type)\n",
    "Counter(stats_err_s.type)"
   ]
  },
  {
   "cell_type": "code",
   "execution_count": 13,
   "metadata": {},
   "outputs": [
    {
     "data": {
      "text/plain": [
       "Counter({'PackageInstallException: Cannot install package in a conda env with Python>=3.6': 31174,\n",
       "         \"FileNotFoundError: '/' in top level\": 1175,\n",
       "         'JSONDecodeError: Other kind of runtime exception occurred': 1979,\n",
       "         'Other': 88})"
      ]
     },
     "execution_count": 13,
     "metadata": {},
     "output_type": "execute_result"
    }
   ],
   "source": [
    "stats_err_d = pd.DataFrame(\n",
    "    list(\n",
    "        stats[\n",
    "            stats.summary_dynamic.map(lambda s: s is not None and s[\"error\"])\n",
    "        ].summary_dynamic\n",
    "    )\n",
    ")\n",
    "def get_dynamic_error_type(s):\n",
    "    if \"PackageInstallException\" in s:\n",
    "        return \"PackageInstallException: Cannot install package in a conda env with Python>=3.6\"\n",
    "    elif \"JSONDecodeError\" in s:\n",
    "        return \"JSONDecodeError: Other kind of runtime exception occurred\"\n",
    "    elif \"FileNotFoundError\" in s:\n",
    "        return \"FileNotFoundError: '/' in top level\"\n",
    "    else:\n",
    "        return \"Other\"\n",
    "stats_err_d[\"type\"] = stats_err_d.stack_trace.map(get_dynamic_error_type)\n",
    "Counter(stats_err_d.type)"
   ]
  },
  {
   "cell_type": "code",
   "execution_count": 14,
   "metadata": {},
   "outputs": [
    {
     "data": {
      "text/plain": [
       "Counter({'SyntaxError': 152331})"
      ]
     },
     "execution_count": 14,
     "metadata": {},
     "output_type": "execute_result"
    }
   ],
   "source": [
    "df = pd.DataFrame(\n",
    "    list(\n",
    "        stats[\n",
    "            stats.summary_static.map(\n",
    "                lambda s: s is not None\n",
    "                and not s[\"error\"]\n",
    "                and len(s[\"failed_modules\"]) > 0\n",
    "            )\n",
    "        ].summary_static\n",
    "    )\n",
    ")\n",
    "stats_fmod_s = []\n",
    "for pkg, ver, fmods in zip(df.package, df.version, df.failed_modules):\n",
    "    for mod, err in fmods.items():\n",
    "        stats_fmod_s.append(\n",
    "            {\"package\": pkg, \"version\": ver, \"module\": mod, \"error\": err}\n",
    "        )\n",
    "stats_fmod_s = pd.DataFrame(stats_fmod_s)\n",
    "def get_fmod_type(s):\n",
    "    if (\n",
    "        \"SyntaxError\" in s\n",
    "        or \"IndentationError\" in s\n",
    "        or \"TabError\" in s\n",
    "        or \"RecursionError\" in s\n",
    "    ):\n",
    "        return \"SyntaxError\"\n",
    "    return \"Other\"\n",
    "stats_fmod_s[\"type\"] = stats_fmod_s.error.map(get_fmod_type)\n",
    "Counter(stats_fmod_s.type)"
   ]
  },
  {
   "cell_type": "code",
   "execution_count": 15,
   "metadata": {},
   "outputs": [
    {
     "data": {
      "text/plain": [
       "Counter({'SyntaxError: the module does not comply with Python 3.9 syntax or has syntax errors': 12036,\n",
       "         'RecursionError: inpsect module failed when inpecting API signature': 4817,\n",
       "         'ImportError: missing dependencies when importing this module': 133911,\n",
       "         'Other: the module can fail due to all kinds of runtime errors (improper config, env, etc)': 24592})"
      ]
     },
     "execution_count": 15,
     "metadata": {},
     "output_type": "execute_result"
    }
   ],
   "source": [
    "df = pd.DataFrame(\n",
    "    list(\n",
    "        stats[\n",
    "            stats.summary_dynamic.map(\n",
    "                lambda s: s is not None\n",
    "                and not s[\"error\"]\n",
    "                and len(s[\"failed_modules\"]) > 0\n",
    "            )\n",
    "        ].summary_dynamic\n",
    "    )\n",
    ")\n",
    "stats_fmod_d = []\n",
    "for pkg, ver, fmods in zip(df.package, df.version, df.failed_modules):\n",
    "    for mod, err in fmods.items():\n",
    "        stats_fmod_d.append(\n",
    "            {\"package\": pkg, \"version\": ver, \"module\": mod, \"error\": err}\n",
    "        )\n",
    "stats_fmod_d = pd.DataFrame(stats_fmod_d)\n",
    "def get_fmod_type(s):\n",
    "    if \"RecursionError\" in s:\n",
    "        return \"RecursionError: inpsect module failed when inpecting API signature\"\n",
    "    elif \"ImportError\" in s or \"ModuleNotFoundError\" in s:\n",
    "        return \"ImportError: missing dependencies when importing this module\"\n",
    "    elif \"SyntaxError\" in s:\n",
    "        return \"SyntaxError: the module does not comply with Python 3.9 syntax or has syntax errors\"\n",
    "    return \"Other: the module can fail due to all kinds of runtime errors (improper config, env, etc)\"\n",
    "stats_fmod_d[\"type\"] = stats_fmod_d.error.map(get_fmod_type)\n",
    "Counter(stats_fmod_d.type)"
   ]
  },
  {
   "cell_type": "code",
   "execution_count": null,
   "metadata": {},
   "outputs": [],
   "source": []
  }
 ],
 "metadata": {
  "interpreter": {
   "hash": "1867a24acd09542e31ac103ef0ddaded5d24361eea2dca0d9d47e91051e1ece1"
  },
  "kernelspec": {
   "display_name": "Python 3",
   "language": "python",
   "name": "python3"
  },
  "language_info": {
   "codemirror_mode": {
    "name": "ipython",
    "version": 3
   },
   "file_extension": ".py",
   "mimetype": "text/x-python",
   "name": "python",
   "nbconvert_exporter": "python",
   "pygments_lexer": "ipython3",
   "version": "3.9.12"
  }
 },
 "nbformat": 4,
 "nbformat_minor": 4
}
