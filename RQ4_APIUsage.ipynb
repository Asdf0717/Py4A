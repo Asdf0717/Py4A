{
 "cells": [
  {
   "cell_type": "code",
   "execution_count": 15,
   "id": "b82ac082-f0a5-4da0-b5d4-8d148db2e472",
   "metadata": {},
   "outputs": [],
   "source": [
    "import os\n",
    "import json\n",
    "import pandas as pd\n",
    "import seaborn as sns\n",
    "import matplotlib.pyplot as plt\n",
    "import py4a.api.accessor as accessor\n",
    "from typing import Tuple\n",
    "from collections import defaultdict"
   ]
  },
  {
   "cell_type": "code",
   "execution_count": 2,
   "id": "cb8fe55e-8a0e-4dfc-8a70-3bb43564b0da",
   "metadata": {},
   "outputs": [],
   "source": [
    "os.makedirs(\"output/figs/\", exist_ok=True)"
   ]
  },
  {
   "cell_type": "code",
   "execution_count": 3,
   "id": "d38f8a74-c651-4b50-a89c-9657c957b457",
   "metadata": {},
   "outputs": [],
   "source": [
    "def get_api_usage_data(scope=\"latest\") -> Tuple[pd.DataFrame, pd.DataFrame]:\n",
    "    client_stat = []\n",
    "    api_stat = defaultdict(lambda: {\"clients\": 0, \"files\": 0, \"calls\": 0})\n",
    "    for fname in os.listdir(f\"output/static/api-usage-{scope}\"):\n",
    "        with open(f\"output/static/api-usage-{scope}/\" + fname, \"r\") as f:\n",
    "            stat = json.load(f)\n",
    "        client_stat.append({\n",
    "            \"u_pkg\": stat[\"u_pkg\"],\n",
    "            \"u_ver\": stat[\"u_ver\"],\n",
    "            \"c_pkg\": stat[\"c_pkg\"],\n",
    "            \"c_ver\": stat[\"c_ver\"],\n",
    "            \"apis\": len(stat[\"api_stats\"]),\n",
    "            \"files\": sum(x[\"files\"] for x in stat[\"api_stats\"].values()),\n",
    "            \"calls\": sum(x[\"calls\"] for x in stat[\"api_stats\"].values()),\n",
    "        })\n",
    "        for api_name, s in stat[\"api_stats\"].items():\n",
    "            key = (stat[\"u_pkg\"], stat[\"u_ver\"], api_name)\n",
    "            api_stat[key][\"clients\"] += 1\n",
    "            api_stat[key][\"files\"] += s[\"files\"]\n",
    "            api_stat[key][\"calls\"] += s[\"calls\"]\n",
    "    api_stat_df = []\n",
    "    for (u_pkg, u_ver, api_name), stat in api_stat.items():\n",
    "        api_stat_df.append({\n",
    "            \"u_pkg\": u_pkg, \n",
    "            \"u_ver\": u_ver, \n",
    "            \"api\": api_name, \n",
    "            \"clients\": stat[\"clients\"], \n",
    "            \"files\": stat[\"files\"], \n",
    "            \"calls\": stat[\"calls\"]\n",
    "        })\n",
    "    client_stat_df = pd.DataFrame(client_stat).sort_values(by=[\"u_pkg\", \"apis\"], ascending=[True, False])\n",
    "    api_stat_df = pd.DataFrame(api_stat_df).sort_values(by=[\"u_pkg\", \"clients\"], ascending=[True, False])\n",
    "    return client_stat_df, api_stat_df\n",
    "                                                          \n",
    "client_stat, api_stat = get_api_usage_data()\n",
    "client_stat.to_csv(\"output/api_usage_client.csv\", index=False)\n",
    "api_stat.to_csv(\"output/api_usage.csv\", index=False)"
   ]
  },
  {
   "cell_type": "code",
   "execution_count": 4,
   "id": "caf31b22-c515-49fd-8050-725bb6d0e5e4",
   "metadata": {},
   "outputs": [
    {
     "name": "stdout",
     "output_type": "stream",
     "text": [
      "377  packages and versions\n",
      "78854  clients\n",
      "64308794  files\n",
      "132688761  calls\n"
     ]
    }
   ],
   "source": [
    "client_stat_all, api_stat_all = get_api_usage_data(scope=\"all\")\n",
    "print(len(set(zip(client_stat_all.u_pkg, client_stat_all.u_ver))), \" packages and versions\")\n",
    "print(len(client_stat_all), \" clients\")\n",
    "print(sum(client_stat_all.files), \" files\")\n",
    "print(sum(client_stat_all.calls), \" calls\")"
   ]
  },
  {
   "cell_type": "code",
   "execution_count": 5,
   "id": "9a4254ae-3191-4303-a5c1-7278d9477db8",
   "metadata": {},
   "outputs": [
    {
     "data": {
      "text/html": [
       "<div>\n",
       "<style scoped>\n",
       "    .dataframe tbody tr th:only-of-type {\n",
       "        vertical-align: middle;\n",
       "    }\n",
       "\n",
       "    .dataframe tbody tr th {\n",
       "        vertical-align: top;\n",
       "    }\n",
       "\n",
       "    .dataframe thead th {\n",
       "        text-align: right;\n",
       "    }\n",
       "</style>\n",
       "<table border=\"1\" class=\"dataframe\">\n",
       "  <thead>\n",
       "    <tr style=\"text-align: right;\">\n",
       "      <th></th>\n",
       "      <th>apis</th>\n",
       "      <th>files</th>\n",
       "      <th>calls</th>\n",
       "    </tr>\n",
       "  </thead>\n",
       "  <tbody>\n",
       "    <tr>\n",
       "      <th>count</th>\n",
       "      <td>78854.000000</td>\n",
       "      <td>78854.000000</td>\n",
       "      <td>7.885400e+04</td>\n",
       "    </tr>\n",
       "    <tr>\n",
       "      <th>mean</th>\n",
       "      <td>26.753659</td>\n",
       "      <td>815.542572</td>\n",
       "      <td>1.682714e+03</td>\n",
       "    </tr>\n",
       "    <tr>\n",
       "      <th>std</th>\n",
       "      <td>41.360067</td>\n",
       "      <td>9797.490449</td>\n",
       "      <td>1.953071e+04</td>\n",
       "    </tr>\n",
       "    <tr>\n",
       "      <th>min</th>\n",
       "      <td>0.000000</td>\n",
       "      <td>0.000000</td>\n",
       "      <td>0.000000e+00</td>\n",
       "    </tr>\n",
       "    <tr>\n",
       "      <th>25%</th>\n",
       "      <td>4.000000</td>\n",
       "      <td>10.000000</td>\n",
       "      <td>1.200000e+01</td>\n",
       "    </tr>\n",
       "    <tr>\n",
       "      <th>50%</th>\n",
       "      <td>12.000000</td>\n",
       "      <td>47.000000</td>\n",
       "      <td>6.900000e+01</td>\n",
       "    </tr>\n",
       "    <tr>\n",
       "      <th>75%</th>\n",
       "      <td>32.000000</td>\n",
       "      <td>165.000000</td>\n",
       "      <td>2.660000e+02</td>\n",
       "    </tr>\n",
       "    <tr>\n",
       "      <th>max</th>\n",
       "      <td>342.000000</td>\n",
       "      <td>624325.000000</td>\n",
       "      <td>1.299996e+06</td>\n",
       "    </tr>\n",
       "  </tbody>\n",
       "</table>\n",
       "</div>"
      ],
      "text/plain": [
       "               apis          files         calls\n",
       "count  78854.000000   78854.000000  7.885400e+04\n",
       "mean      26.753659     815.542572  1.682714e+03\n",
       "std       41.360067    9797.490449  1.953071e+04\n",
       "min        0.000000       0.000000  0.000000e+00\n",
       "25%        4.000000      10.000000  1.200000e+01\n",
       "50%       12.000000      47.000000  6.900000e+01\n",
       "75%       32.000000     165.000000  2.660000e+02\n",
       "max      342.000000  624325.000000  1.299996e+06"
      ]
     },
     "execution_count": 5,
     "metadata": {},
     "output_type": "execute_result"
    }
   ],
   "source": [
    "client_stat_all.describe()"
   ]
  },
  {
   "cell_type": "code",
   "execution_count": 6,
   "id": "af594ef5-de15-4804-863a-cc1a786f11dd",
   "metadata": {},
   "outputs": [
    {
     "data": {
      "text/html": [
       "<div>\n",
       "<style scoped>\n",
       "    .dataframe tbody tr th:only-of-type {\n",
       "        vertical-align: middle;\n",
       "    }\n",
       "\n",
       "    .dataframe tbody tr th {\n",
       "        vertical-align: top;\n",
       "    }\n",
       "\n",
       "    .dataframe thead th {\n",
       "        text-align: right;\n",
       "    }\n",
       "</style>\n",
       "<table border=\"1\" class=\"dataframe\">\n",
       "  <thead>\n",
       "    <tr style=\"text-align: right;\">\n",
       "      <th></th>\n",
       "      <th>u_pkg</th>\n",
       "      <th>u_ver</th>\n",
       "      <th>c_pkg</th>\n",
       "      <th>c_ver</th>\n",
       "      <th>apis</th>\n",
       "      <th>files</th>\n",
       "      <th>calls</th>\n",
       "    </tr>\n",
       "  </thead>\n",
       "  <tbody>\n",
       "    <tr>\n",
       "      <th>1278</th>\n",
       "      <td>django</td>\n",
       "      <td>4.0</td>\n",
       "      <td>djangorestframework</td>\n",
       "      <td>3.11.2</td>\n",
       "      <td>189</td>\n",
       "      <td>653</td>\n",
       "      <td>991</td>\n",
       "    </tr>\n",
       "    <tr>\n",
       "      <th>1329</th>\n",
       "      <td>django</td>\n",
       "      <td>4.0</td>\n",
       "      <td>djangorestframework</td>\n",
       "      <td>3.13.1</td>\n",
       "      <td>188</td>\n",
       "      <td>677</td>\n",
       "      <td>1018</td>\n",
       "    </tr>\n",
       "    <tr>\n",
       "      <th>1197</th>\n",
       "      <td>django</td>\n",
       "      <td>4.0</td>\n",
       "      <td>edx-enterprise</td>\n",
       "      <td>3.36.9</td>\n",
       "      <td>164</td>\n",
       "      <td>3093</td>\n",
       "      <td>5284</td>\n",
       "    </tr>\n",
       "    <tr>\n",
       "      <th>1163</th>\n",
       "      <td>django</td>\n",
       "      <td>4.0</td>\n",
       "      <td>django-jinja</td>\n",
       "      <td>2.4.1</td>\n",
       "      <td>131</td>\n",
       "      <td>216</td>\n",
       "      <td>251</td>\n",
       "    </tr>\n",
       "    <tr>\n",
       "      <th>1186</th>\n",
       "      <td>django</td>\n",
       "      <td>4.0</td>\n",
       "      <td>django-jinja</td>\n",
       "      <td>2.10.0</td>\n",
       "      <td>121</td>\n",
       "      <td>191</td>\n",
       "      <td>211</td>\n",
       "    </tr>\n",
       "  </tbody>\n",
       "</table>\n",
       "</div>"
      ],
      "text/plain": [
       "       u_pkg u_ver                c_pkg   c_ver  apis  files  calls\n",
       "1278  django   4.0  djangorestframework  3.11.2   189    653    991\n",
       "1329  django   4.0  djangorestframework  3.13.1   188    677   1018\n",
       "1197  django   4.0       edx-enterprise  3.36.9   164   3093   5284\n",
       "1163  django   4.0         django-jinja   2.4.1   131    216    251\n",
       "1186  django   4.0         django-jinja  2.10.0   121    191    211"
      ]
     },
     "execution_count": 6,
     "metadata": {},
     "output_type": "execute_result"
    }
   ],
   "source": [
    "client_stat.head(5)"
   ]
  },
  {
   "cell_type": "code",
   "execution_count": 7,
   "id": "e9512279-226a-4317-955d-070ae3b52cd2",
   "metadata": {},
   "outputs": [
    {
     "data": {
      "text/html": [
       "<div>\n",
       "<style scoped>\n",
       "    .dataframe tbody tr th:only-of-type {\n",
       "        vertical-align: middle;\n",
       "    }\n",
       "\n",
       "    .dataframe tbody tr th {\n",
       "        vertical-align: top;\n",
       "    }\n",
       "\n",
       "    .dataframe thead th {\n",
       "        text-align: right;\n",
       "    }\n",
       "</style>\n",
       "<table border=\"1\" class=\"dataframe\">\n",
       "  <thead>\n",
       "    <tr style=\"text-align: right;\">\n",
       "      <th></th>\n",
       "      <th>u_pkg</th>\n",
       "      <th>u_ver</th>\n",
       "      <th>api</th>\n",
       "      <th>clients</th>\n",
       "      <th>files</th>\n",
       "      <th>calls</th>\n",
       "    </tr>\n",
       "  </thead>\n",
       "  <tbody>\n",
       "    <tr>\n",
       "      <th>2813</th>\n",
       "      <td>django</td>\n",
       "      <td>4.0</td>\n",
       "      <td>django.conf.settings</td>\n",
       "      <td>153</td>\n",
       "      <td>1578</td>\n",
       "      <td>2385</td>\n",
       "    </tr>\n",
       "    <tr>\n",
       "      <th>2812</th>\n",
       "      <td>django</td>\n",
       "      <td>4.0</td>\n",
       "      <td>django.db.models</td>\n",
       "      <td>99</td>\n",
       "      <td>753</td>\n",
       "      <td>755</td>\n",
       "    </tr>\n",
       "    <tr>\n",
       "      <th>2851</th>\n",
       "      <td>django</td>\n",
       "      <td>4.0</td>\n",
       "      <td>django.db.models.Model</td>\n",
       "      <td>89</td>\n",
       "      <td>194</td>\n",
       "      <td>404</td>\n",
       "    </tr>\n",
       "    <tr>\n",
       "      <th>2820</th>\n",
       "      <td>django</td>\n",
       "      <td>4.0</td>\n",
       "      <td>django.db.models.CharField</td>\n",
       "      <td>87</td>\n",
       "      <td>1474</td>\n",
       "      <td>3569</td>\n",
       "    </tr>\n",
       "    <tr>\n",
       "      <th>2874</th>\n",
       "      <td>django</td>\n",
       "      <td>4.0</td>\n",
       "      <td>django.apps.AppConfig</td>\n",
       "      <td>81</td>\n",
       "      <td>151</td>\n",
       "      <td>151</td>\n",
       "    </tr>\n",
       "  </tbody>\n",
       "</table>\n",
       "</div>"
      ],
      "text/plain": [
       "       u_pkg u_ver                         api  clients  files  calls\n",
       "2813  django   4.0        django.conf.settings      153   1578   2385\n",
       "2812  django   4.0            django.db.models       99    753    755\n",
       "2851  django   4.0      django.db.models.Model       89    194    404\n",
       "2820  django   4.0  django.db.models.CharField       87   1474   3569\n",
       "2874  django   4.0       django.apps.AppConfig       81    151    151"
      ]
     },
     "execution_count": 7,
     "metadata": {},
     "output_type": "execute_result"
    }
   ],
   "source": [
    "api_stat.head(5)"
   ]
  },
  {
   "cell_type": "code",
   "execution_count": 18,
   "id": "4992efcc-0aa6-49d9-8f9d-b74a64a6d977",
   "metadata": {},
   "outputs": [
    {
     "name": "stdout",
     "output_type": "stream",
     "text": [
      "[('pandas', '1.3.5'), ('scikit-learn', '1.0.2'), ('django', '4.0'), ('flask', '2.0.2'), ('tensorflow', '2.7.0'), ('keras', '2.7.0')]\n",
      "pandas      : 25870 APIs,  733 APIs (2.83%) used in 702 clients\n",
      "scikit-learn: 14563 APIs,  820 APIs (5.63%) used in 249 clients\n",
      "django      : 11209 APIs, 1029 APIs (9.18%) used in 204 clients\n",
      "flask       :   582 APIs,   61 APIs (10.48%) used in  85 clients\n",
      "tensorflow  : 66314 APIs, 1530 APIs (2.31%) used in 173 clients\n",
      "keras       : 10304 APIs,  170 APIs (1.65%) used in  34 clients\n",
      "128842 APIs in total in which 4343 APIs (3.37%) are used\n"
     ]
    }
   ],
   "source": [
    "pkgs = [('pandas', '1.3.5'), ('scikit-learn', '1.0.2'), ('django', '4.0'),  ('flask', '2.0.2'), ('tensorflow', '2.7.0'), ('keras', '2.7.0')]\n",
    "print(pkgs)\n",
    "all_apis, all_used_apis = 0, 0\n",
    "for pkg, ver in pkgs:\n",
    "    apis = accessor.get_apis(pkg, ver, dynamic=False)\n",
    "    num_apis = sum(len(api.keys()) for api in apis.values())\n",
    "    num_clients = len(client_stat[client_stat.u_pkg == pkg])\n",
    "    num_used_apis = len(api_stat[api_stat.u_pkg == pkg])\n",
    "    all_apis += num_apis\n",
    "    all_used_apis += num_used_apis\n",
    "    print(f\"{pkg:12}: {num_apis:5} APIs, {num_used_apis:4} APIs \"\n",
    "          f\"({num_used_apis / num_apis * 100:4.2f}%) used in {num_clients:3} clients\")\n",
    "print(f\"{all_apis} APIs in total in which {all_used_apis} APIs ({all_used_apis / all_apis * 100:.2f}%) are used\")"
   ]
  },
  {
   "cell_type": "code",
   "execution_count": 19,
   "id": "f4adc781-b338-4534-9606-d944a2e339c2",
   "metadata": {},
   "outputs": [
    {
     "name": "stdout",
     "output_type": "stream",
     "text": [
      "pandas      : Used Clients Most Used APIs by Clients\n",
      "           1:          626 pandas                   \n",
      "           2:          598 pandas.DataFrame         \n",
      "           3:          365 pandas.Series            \n",
      "           4:          323 pandas.concat            \n",
      "           5:          295 pandas.read_csv          \n",
      "           6:          166 pandas.to_datetime       \n",
      "           7:          135 pandas.DataFrame.set_index\n",
      "           8:          133 pandas.Index             \n",
      "           9:          126 pandas.MultiIndex        \n",
      "          10:          123 pandas.DataFrame.append  \n",
      "scikit-learn: Used Clients Most Used APIs by Clients\n",
      "           1:          116 sklearn.base.BaseEstimator\n",
      "           2:           76 sklearn.linear_model.LogisticRegression\n",
      "           3:           74 sklearn.model_selection.train_test_split\n",
      "           4:           69 sklearn.base.TransformerMixin\n",
      "           5:           67 sklearn.linear_model.LinearRegression\n",
      "           6:           66 sklearn.preprocessing.LabelEncoder\n",
      "           7:           64 sklearn.preprocessing.StandardScaler\n",
      "           8:           59 sklearn.decomposition.PCA\n",
      "           9:           58 sklearn.ensemble.RandomForestClassifier\n",
      "          10:           56 sklearn.base.clone       \n",
      "django      : Used Clients Most Used APIs by Clients\n",
      "           1:          153 django.conf.settings     \n",
      "           2:           99 django.db.models         \n",
      "           3:           89 django.db.models.Model   \n",
      "           4:           87 django.db.models.CharField\n",
      "           5:           81 django.apps.AppConfig    \n",
      "           6:           76 django.core.exceptions.ImproperlyConfigured\n",
      "           7:           71 django.db.models.AutoField\n",
      "           8:           68 django.contrib.admin     \n",
      "           9:           65 django.core.management.base.BaseCommand\n",
      "          10:           65 django.db.migrations     \n",
      "flask       : Used Clients Most Used APIs by Clients\n",
      "           1:           51 flask.request            \n",
      "           2:           48 flask.Flask              \n",
      "           3:           26 flask.jsonify            \n",
      "           4:           22 flask.Response           \n",
      "           5:           21 flask.make_response      \n",
      "           6:           18 flask.Flask.run          \n",
      "           7:           18 flask.render_template    \n",
      "           8:           13 flask                    \n",
      "           9:           12 flask.redirect           \n",
      "          10:           12 flask.current_app        \n",
      "tensorflow  : Used Clients Most Used APIs by Clients\n",
      "           1:          138 tensorflow               \n",
      "           2:           98 tensorflow.int32         \n",
      "           3:           97 tensorflow.float32       \n",
      "           4:           87 tensorflow.constant      \n",
      "           5:           86 tensorflow.cast          \n",
      "           6:           85 tensorflow.shape         \n",
      "           7:           81 tensorflow.reshape       \n",
      "           8:           78 tensorflow.Tensor        \n",
      "           9:           78 tensorflow.int64         \n",
      "          10:           75 tensorflow.range         \n",
      "keras       : Used Clients Most Used APIs by Clients\n",
      "           1:           15 keras                    \n",
      "           2:           10 keras.models.Model       \n",
      "           3:           10 keras.layers.Dense       \n",
      "           4:            8 keras.layers.Activation  \n",
      "           5:            8 keras.backend            \n",
      "           6:            8 keras.layers.Input       \n",
      "           7:            7 keras.layers.Conv2D      \n",
      "           8:            6 keras.layers.Add         \n",
      "           9:            6 keras.layers.Concatenate \n",
      "          10:            6 keras.layers.Dropout     \n"
     ]
    }
   ],
   "source": [
    "for i, (pkg, ver) in enumerate(pkgs):\n",
    "    print(f\"{pkg:12}: {'Used Clients':12} {'Most Used APIs by Clients':25}\")\n",
    "    data = api_stat[api_stat.u_pkg == pkg].sort_values(by=\"clients\", ascending=False).head(10)\n",
    "    for i in range(0, 10):\n",
    "        print(f\"{i + 1:12}: {data.clients.iloc[i]:12} {data.api.iloc[i]:25}\")"
   ]
  },
  {
   "cell_type": "code",
   "execution_count": 20,
   "id": "fef71146-a18d-43e6-8b50-07179789cfe2",
   "metadata": {},
   "outputs": [
    {
     "data": {
      "image/png": "[encoded data removed]",
      "text/plain": [
       "<Figure size 1512x216 with 6 Axes>"
      ]
     },
     "metadata": {
      "needs_background": "light"
     },
     "output_type": "display_data"
    }
   ],
   "source": [
    "fig, axes = plt.subplots(1, len(pkgs), figsize=(21, 3))\n",
    "for i, (pkg, ver) in enumerate(pkgs):\n",
    "    labels = [\"# of Clients\", \"# of Modules\", \"# of Accesses\"]\n",
    "    for j, col in enumerate([\"clients\", \"files\", \"calls\"]):\n",
    "        axes[i].plot(\n",
    "            sorted(api_stat[api_stat.u_pkg == pkg][col], reverse=True),\n",
    "            label=labels[j],\n",
    "        )\n",
    "    axes[i].set_xlabel(f\"APIs of {pkg} {ver}\")\n",
    "    axes[i].set_yscale(\"log\")\n",
    "    axes[i].legend()\n",
    "fig.savefig(\"output/figs/api_usage.pdf\", bbox_inches=\"tight\")"
   ]
  },
  {
   "cell_type": "code",
   "execution_count": 17,
   "id": "053677ad-b7b3-48d2-9475-856cfa198b98",
   "metadata": {},
   "outputs": [
    {
     "data": {
      "text/html": [
       "<div>\n",
       "<style scoped>\n",
       "    .dataframe tbody tr th:only-of-type {\n",
       "        vertical-align: middle;\n",
       "    }\n",
       "\n",
       "    .dataframe tbody tr th {\n",
       "        vertical-align: top;\n",
       "    }\n",
       "\n",
       "    .dataframe thead th {\n",
       "        text-align: right;\n",
       "    }\n",
       "</style>\n",
       "<table border=\"1\" class=\"dataframe\">\n",
       "  <thead>\n",
       "    <tr style=\"text-align: right;\">\n",
       "      <th></th>\n",
       "      <th>apis</th>\n",
       "      <th>files</th>\n",
       "      <th>calls</th>\n",
       "    </tr>\n",
       "  </thead>\n",
       "  <tbody>\n",
       "    <tr>\n",
       "      <th>count</th>\n",
       "      <td>1447.000000</td>\n",
       "      <td>1447.000000</td>\n",
       "      <td>1447.000000</td>\n",
       "    </tr>\n",
       "    <tr>\n",
       "      <th>mean</th>\n",
       "      <td>24.105045</td>\n",
       "      <td>1027.107118</td>\n",
       "      <td>2234.493435</td>\n",
       "    </tr>\n",
       "    <tr>\n",
       "      <th>std</th>\n",
       "      <td>39.476975</td>\n",
       "      <td>13432.203531</td>\n",
       "      <td>27620.628088</td>\n",
       "    </tr>\n",
       "    <tr>\n",
       "      <th>min</th>\n",
       "      <td>0.000000</td>\n",
       "      <td>0.000000</td>\n",
       "      <td>0.000000</td>\n",
       "    </tr>\n",
       "    <tr>\n",
       "      <th>25%</th>\n",
       "      <td>3.000000</td>\n",
       "      <td>8.000000</td>\n",
       "      <td>10.000000</td>\n",
       "    </tr>\n",
       "    <tr>\n",
       "      <th>50%</th>\n",
       "      <td>9.000000</td>\n",
       "      <td>44.000000</td>\n",
       "      <td>67.000000</td>\n",
       "    </tr>\n",
       "    <tr>\n",
       "      <th>75%</th>\n",
       "      <td>26.000000</td>\n",
       "      <td>200.500000</td>\n",
       "      <td>328.500000</td>\n",
       "    </tr>\n",
       "    <tr>\n",
       "      <th>max</th>\n",
       "      <td>342.000000</td>\n",
       "      <td>419284.000000</td>\n",
       "      <td>844286.000000</td>\n",
       "    </tr>\n",
       "  </tbody>\n",
       "</table>\n",
       "</div>"
      ],
      "text/plain": [
       "              apis          files          calls\n",
       "count  1447.000000    1447.000000    1447.000000\n",
       "mean     24.105045    1027.107118    2234.493435\n",
       "std      39.476975   13432.203531   27620.628088\n",
       "min       0.000000       0.000000       0.000000\n",
       "25%       3.000000       8.000000      10.000000\n",
       "50%       9.000000      44.000000      67.000000\n",
       "75%      26.000000     200.500000     328.500000\n",
       "max     342.000000  419284.000000  844286.000000"
      ]
     },
     "execution_count": 17,
     "metadata": {},
     "output_type": "execute_result"
    }
   ],
   "source": [
    "client_stat.describe()"
   ]
  },
  {
   "cell_type": "code",
   "execution_count": 12,
   "id": "802bccb4-de26-4adf-8870-27390d026d32",
   "metadata": {},
   "outputs": [
    {
     "data": {
      "image/png": "[encoded data removed]",
      "text/plain": [
       "<Figure size 1512x216 with 6 Axes>"
      ]
     },
     "metadata": {
      "needs_background": "light"
     },
     "output_type": "display_data"
    }
   ],
   "source": [
    "fig, axes = plt.subplots(1, len(pkgs), figsize=(21, 3))\n",
    "for i, (u_pkg, u_ver) in enumerate(pkgs):\n",
    "    clients = client_stat[client_stat.u_pkg == u_pkg].sort_values(by=\"apis\", ascending=False)\n",
    "    apis = set()\n",
    "    data = []\n",
    "    for c_pkg, c_ver in zip(clients.c_pkg, clients.c_ver):\n",
    "        with open(f\"output/static/api-usage-latest/{u_pkg},{u_ver},{c_pkg},{c_ver}.json\", \"r\") as f:\n",
    "            stat = json.load(f)\n",
    "        apis.update(stat[\"api_stats\"].keys())\n",
    "        data.append(len(apis))\n",
    "    axes[i].plot(data, label=\"Number of Used APIs\")\n",
    "    axes[i].set_xlabel(f\"Clients of {u_pkg} {u_ver}\")\n",
    "    axes[i].legend()\n",
    "fig.savefig(\"output/figs/api_coverage.png\", bbox_inches=\"tight\")"
   ]
  },
  {
   "cell_type": "code",
   "execution_count": 13,
   "id": "fd97ffae-32a7-4cc0-af9e-b7268f5af0a0",
   "metadata": {},
   "outputs": [
    {
     "name": "stdout",
     "output_type": "stream",
     "text": [
      "27293 18361 733 474 254\n"
     ]
    }
   ],
   "source": [
    "apis = set(accessor.get_apis(\"pandas\", \"1.3.5\")[\"pandas\"].keys(leaf_only=False))\n",
    "public_apis = set()\n",
    "used_apis = set(api_stat[api_stat.u_pkg == \"pandas\"].api)\n",
    "for api_name in apis:\n",
    "    if any(p.startswith(\"_\") and not p.startswith(\"__\") for p in api_name.split(\".\")):\n",
    "        continue\n",
    "    if \"pandas.core\" in api_name or \"pandas.compat\" in api_name or \"pandas.util\" in api_name:\n",
    "        continue\n",
    "    public_apis.add(api_name)\n",
    "print(len(apis), len(public_apis), len(used_apis), len(apis & used_apis), len(public_apis & used_apis))"
   ]
  },
  {
   "cell_type": "code",
   "execution_count": 14,
   "id": "d56d84b6-aa1a-48ba-9d64-675e5ff6d0c9",
   "metadata": {},
   "outputs": [
    {
     "data": {
      "image/png": "[encoded data removed]",
      "text/plain": [
       "<Figure size 648x86.4 with 1 Axes>"
      ]
     },
     "metadata": {
      "needs_background": "light"
     },
     "output_type": "display_data"
    }
   ],
   "source": [
    "api_stat_pandas = api_stat[api_stat.u_pkg == \"pandas\"].copy()\n",
    "api_stat_pandas[\"public\"] = api_stat_pandas.api.map(lambda a: a in public_apis or a not in apis)\n",
    "api_stat_pandas.to_csv(\"output/api_stat_pandas.csv\", index=False)\n",
    "fig, ax = plt.subplots(1, 1, figsize=(9, 1.2))\n",
    "sns.boxplot(y=\"u_pkg\", x=\"clients\", hue=\"public\", data=api_stat_pandas, ax=ax)\n",
    "ax.set_xscale(\"log\")\n",
    "ax.set_ylabel(\"Package APIs\")\n",
    "ax.set_xlabel(\"Number of Clients\")\n",
    "fig.savefig(\"output/figs/api_visibility.png\", bbox_inches=\"tight\")"
   ]
  },
  {
   "cell_type": "code",
   "execution_count": null,
   "id": "9f844b21-d72a-4608-86e4-26f852c95af5",
   "metadata": {},
   "outputs": [],
   "source": []
  }
 ],
 "metadata": {
  "kernelspec": {
   "display_name": "Python 3",
   "language": "python",
   "name": "python3"
  },
  "language_info": {
   "codemirror_mode": {
    "name": "ipython",
    "version": 3
   },
   "file_extension": ".py",
   "mimetype": "text/x-python",
   "name": "python",
   "nbconvert_exporter": "python",
   "pygments_lexer": "ipython3",
   "version": "3.9.12"
  }
 },
 "nbformat": 4,
 "nbformat_minor": 5
}
