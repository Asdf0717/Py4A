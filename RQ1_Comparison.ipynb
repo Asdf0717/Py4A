{
 "cells": [
  {
   "cell_type": "code",
   "execution_count": 4,
   "id": "fdd8e286-e56e-40ce-bd1d-f81edb739249",
   "metadata": {},
   "outputs": [],
   "source": [
    "import os\n",
    "import py4a.api.entity as entity\n",
    "import py4a.api.accessor as accessor\n",
    "import multiprocessing as mp"
   ]
  },
  {
   "cell_type": "code",
   "execution_count": 8,
   "id": "2e1ff6b3-cc74-49fc-b556-27090c48dbc2",
   "metadata": {},
   "outputs": [
    {
     "name": "stdout",
     "output_type": "stream",
     "text": [
      "pytz-2021.3.txt 80 0\n",
      "importlib-metadata-4.10.0.txt 119 0\n",
      "protobuf-3.19.1.txt 347 0\n",
      "pyparsing-3.0.6.txt 1034 19\n",
      "zipp-3.7.0.txt 0 21\n",
      "charset-normalizer-2.0.9.txt 265 0\n",
      "cryptography-36.0.1.txt 0 1\n",
      "pycparser-2.21.txt 722 0\n",
      "docutils-0.18.1.txt 2578 1\n",
      "oauthlib-3.1.1.txt 1169 7\n",
      "werkzeug-2.0.2.txt 1435 0\n",
      "google-api-core-2.3.2.txt 310 0\n",
      "requests-oauthlib-1.3.0.txt 67 0\n",
      "pyjwt-2.3.0.txt 175 0\n",
      "itsdangerous-2.0.1.txt 215 0\n",
      "flask-2.0.2.txt 563 1\n",
      "google-auth-2.3.3.txt 353 0\n",
      "cachetools-5.0.0.txt 37 1\n",
      "multidict-5.2.0.txt 33 0\n",
      "aiohttp-3.8.1.txt 2612 111\n",
      "yarl-1.7.2.txt 94 0\n",
      "pyasn1-modules-0.2.8.txt 1903 0\n",
      "toml-0.10.2.txt 47 0\n",
      "websocket-client-1.2.3.txt 185 0\n",
      "decorator-5.1.0.txt 12 0\n",
      "sqlalchemy-1.4.29.txt 8879 65\n",
      "google-cloud-core-2.2.1.txt 0 23\n",
      "isodate-0.6.1.txt 71 0\n",
      "pillow-9.0.0.txt 814 0\n",
      "wrapt-1.13.3.txt 54 0\n",
      "py-1.11.0.txt 468 1\n",
      "discord-py-1.7.3.txt 3246 689\n",
      "wheel-0.37.1.txt 98 0\n",
      "click-8.0.3.txt 961 17\n",
      "urllib3-1.26.7.txt 553 27\n",
      "numpy-1.22.0.txt 3982 530\n",
      "google-cloud-storage-1.43.0.txt 0 678\n",
      "azure-core-1.21.1.txt 598 0\n",
      "msrest-0.6.21.txt 148 6\n",
      "colorama-0.4.4.txt 105 0\n",
      "markupsafe-2.0.1.txt 22 0\n",
      "rsa-4.8.txt 85 0\n",
      "pyasn1-0.4.8.txt 411 1\n",
      "jinja2-3.0.3.txt 1705 0\n",
      "botocore-1.23.26.txt 1575 1\n",
      "six-1.16.0.txt 40 1\n",
      "boto3-1.20.27.txt 372 0\n",
      "chardet-4.0.0.txt 426 0\n",
      "attrs-21.4.0.txt 109 0\n",
      "cffi-1.15.0.txt 0 1\n",
      "s3transfer-0.5.0.txt 533 0\n",
      "pandas-1.3.5.txt 0 1\n",
      "idna-3.3.txt 83 0\n",
      "python-dateutil-2.8.2.txt 197 3\n",
      "packaging-21.3.txt 146 0\n",
      "googleapis-common-protos-1.54.0.txt 42 0\n",
      "setuptools-60.2.0.txt 2399 15\n",
      "requests-2.26.0.txt 403 0\n",
      "certifi-2021.10.8.txt 5 0\n",
      "awscli-1.22.26.txt 0 1\n",
      "pyyaml-6.0.txt 0 1\n",
      "typing-extensions-4.0.1.txt 0 1\n",
      "jmespath-0.10.0.txt 86 0\n",
      "scipy-1.7.3.txt 6109 100\n",
      "pip-21.3.1.txt 8291 118\n",
      "pyarrow-6.0.1.txt 0 1\n",
      "jsonschema-4.3.3.txt 217 0\n",
      "pytest-6.2.5.txt 2719 1\n",
      "docker-5.0.3.txt 1167 0\n",
      "azure-storage-blob-12.9.0.txt 0 1103\n",
      "pyrsistent-0.18.0.txt 0 1\n",
      "future-0.18.0.txt 1847 83\n",
      "async-timeout-4.0.2.txt 8 0\n",
      "grpcio-1.43.0.txt 509 0\n",
      "psutil-5.9.0.txt 459 2\n",
      "pygments-2.11.1.txt 2756 2\n",
      "matplotlib-3.5.1.txt 11855 72\n",
      "greenlet-1.1.2.txt 0 1\n",
      "pluggy-1.0.0.txt 63 0\n",
      "joblib-1.1.0.txt 638 5\n",
      "google-api-python-client-2.33.0.txt 0 1\n",
      "tqdm-4.62.3.txt 242 170\n",
      "tabulate-0.8.9.txt 4 0\n",
      "filelock-3.4.2.txt 23 0\n",
      "azure-common-1.1.27.txt 20 0\n",
      "discord-1.7.3.txt 0 1\n",
      "google-resumable-media-2.1.0.txt 134 0\n",
      "lxml-4.7.1.txt 254 0\n",
      "scikit-learn-1.0.2.txt 2802 17\n",
      "fsspec-2021.11.1.txt 1142 0\n",
      "uritemplate-4.1.1.txt 32 0\n",
      "prometheus-client-0.12.0.txt 202 0\n",
      "kiwisolver-1.3.2.txt 0 1\n",
      "pyopenssl-21.0.0.txt 280 11\n",
      "regex-2021.11.10.txt 448 0\n",
      "mypy-extensions-0.4.3.txt 9 0\n",
      "gitpython-3.1.24.txt 2071 0\n",
      "gunicorn-20.1.0.txt 622 0\n",
      "google-auth-httplib2-0.1.0.txt 9 0\n",
      "defusedxml-0.7.1.txt 88 0\n"
     ]
    }
   ],
   "source": [
    "def compute(fname):\n",
    "    lib = \"-\".join(fname.split(\"-\")[:-1])\n",
    "    ver = fname.split(\"-\")[-1].replace(\".txt\", \"\")\n",
    "    apis = accessor.get_apis(lib, ver)\n",
    "    runtime = accessor.get_runtime(lib, ver, \"3.9.6\")\n",
    "    \n",
    "    with open(\"evaluation/apis-snifferdog/\" + fname, \"r\") as f:\n",
    "        apis2 = set(f.read().strip().split(\"\\n\"))\n",
    "    \n",
    "    accessible, not_accessible = set(), set()\n",
    "    for n in apis2:\n",
    "        try:\n",
    "            top_level = n.split(\".\")[0]\n",
    "            apis[top_level].query(n, top_levels=runtime)\n",
    "            accessible.add(n)\n",
    "        except:\n",
    "            not_accessible.add(n)\n",
    "    return fname, accessible, not_accessible\n",
    "\n",
    "with mp.Pool(mp.cpu_count() // 2) as p:\n",
    "    results = p.map(compute, os.listdir(\"evaluation/apis-snifferdog/\"))\n",
    "\n",
    "for fname, accessible, not_accessible in results:\n",
    "    print(fname, len(accessible), len(not_accessible))"
   ]
  },
  {
   "cell_type": "code",
   "execution_count": 13,
   "id": "86b44377-2ee0-44e5-b44f-bd2ff7341834",
   "metadata": {},
   "outputs": [
    {
     "name": "stdout",
     "output_type": "stream",
     "text": [
      "87991 3914 0.9574125455633534\n"
     ]
    }
   ],
   "source": [
    "a, b = 0, 0\n",
    "for fname, accessible, not_accessible in results:\n",
    "    a += len(accessible)\n",
    "    b += len(not_accessible)\n",
    "print(a, b, a/(a+b))"
   ]
  },
  {
   "cell_type": "code",
   "execution_count": 14,
   "id": "fca2dc95-50e0-472b-8d0a-23782b37dc8c",
   "metadata": {},
   "outputs": [
    {
     "name": "stdout",
     "output_type": "stream",
     "text": [
      "847902\n"
     ]
    }
   ],
   "source": [
    "s = 0\n",
    "for fname in os.listdir(\"evaluation/apis-snifferdog/\"):\n",
    "    with open(\"evaluation/apis/\" + fname, \"r\") as f:\n",
    "        apis = set(f.read().strip().split(\"\\n\"))\n",
    "    s += len(apis)\n",
    "print(s)"
   ]
  },
  {
   "cell_type": "code",
   "execution_count": null,
   "id": "df6d8d65-9fc2-4a47-a780-8e11b0eb7773",
   "metadata": {},
   "outputs": [],
   "source": []
  }
 ],
 "metadata": {
  "kernelspec": {
   "display_name": "Python 3",
   "language": "python",
   "name": "python3"
  },
  "language_info": {
   "codemirror_mode": {
    "name": "ipython",
    "version": 3
   },
   "file_extension": ".py",
   "mimetype": "text/x-python",
   "name": "python",
   "nbconvert_exporter": "python",
   "pygments_lexer": "ipython3",
   "version": "3.9.12"
  }
 },
 "nbformat": 4,
 "nbformat_minor": 5
}
